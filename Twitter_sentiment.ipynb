{
 "cells": [
  {
   "cell_type": "markdown",
   "metadata": {},
   "source": [
    "# Hackerearth Twitter Sentiment Analysis #"
   ]
  },
  {
   "cell_type": "code",
   "execution_count": 22,
   "metadata": {},
   "outputs": [],
   "source": [
    "import pandas as pd\n",
    "import numpy as np\n",
    "import seaborn as sns\n",
    "import matplotlib.pyplot as plt"
   ]
  },
  {
   "cell_type": "code",
   "execution_count": 2,
   "metadata": {},
   "outputs": [],
   "source": [
    "# Loading the dataset \n",
    "\n",
    "train = pd.read_csv('train.csv')\n",
    "\n",
    "test =pd.read_csv('test.csv')"
   ]
  },
  {
   "cell_type": "code",
   "execution_count": 3,
   "metadata": {},
   "outputs": [
    {
     "data": {
      "text/html": [
       "<div>\n",
       "<style scoped>\n",
       "    .dataframe tbody tr th:only-of-type {\n",
       "        vertical-align: middle;\n",
       "    }\n",
       "\n",
       "    .dataframe tbody tr th {\n",
       "        vertical-align: top;\n",
       "    }\n",
       "\n",
       "    .dataframe thead th {\n",
       "        text-align: right;\n",
       "    }\n",
       "</style>\n",
       "<table border=\"1\" class=\"dataframe\">\n",
       "  <thead>\n",
       "    <tr style=\"text-align: right;\">\n",
       "      <th></th>\n",
       "      <th>id</th>\n",
       "      <th>original_text</th>\n",
       "      <th>lang</th>\n",
       "      <th>retweet_count</th>\n",
       "      <th>original_author</th>\n",
       "      <th>sentiment_class</th>\n",
       "    </tr>\n",
       "  </thead>\n",
       "  <tbody>\n",
       "    <tr>\n",
       "      <th>0</th>\n",
       "      <td>1.245025e+18</td>\n",
       "      <td>Happy #MothersDay to all you amazing mothers o...</td>\n",
       "      <td>en</td>\n",
       "      <td>0</td>\n",
       "      <td>BeenXXPired</td>\n",
       "      <td>0</td>\n",
       "    </tr>\n",
       "    <tr>\n",
       "      <th>1</th>\n",
       "      <td>1.245759e+18</td>\n",
       "      <td>Happy Mothers Day Mum - I'm sorry I can't be t...</td>\n",
       "      <td>en</td>\n",
       "      <td>1</td>\n",
       "      <td>FestiveFeeling</td>\n",
       "      <td>0</td>\n",
       "    </tr>\n",
       "    <tr>\n",
       "      <th>2</th>\n",
       "      <td>1.246087e+18</td>\n",
       "      <td>Happy mothers day To all This doing a mothers ...</td>\n",
       "      <td>en</td>\n",
       "      <td>0</td>\n",
       "      <td>KrisAllenSak</td>\n",
       "      <td>-1</td>\n",
       "    </tr>\n",
       "    <tr>\n",
       "      <th>3</th>\n",
       "      <td>1.244803e+18</td>\n",
       "      <td>Happy mothers day to this beautiful woman...ro...</td>\n",
       "      <td>en</td>\n",
       "      <td>0</td>\n",
       "      <td>Queenuchee</td>\n",
       "      <td>0</td>\n",
       "    </tr>\n",
       "    <tr>\n",
       "      <th>4</th>\n",
       "      <td>1.244876e+18</td>\n",
       "      <td>Remembering the 3 most amazing ladies who made...</td>\n",
       "      <td>en</td>\n",
       "      <td>0</td>\n",
       "      <td>brittan17446794</td>\n",
       "      <td>-1</td>\n",
       "    </tr>\n",
       "  </tbody>\n",
       "</table>\n",
       "</div>"
      ],
      "text/plain": [
       "             id                                      original_text lang  \\\n",
       "0  1.245025e+18  Happy #MothersDay to all you amazing mothers o...   en   \n",
       "1  1.245759e+18  Happy Mothers Day Mum - I'm sorry I can't be t...   en   \n",
       "2  1.246087e+18  Happy mothers day To all This doing a mothers ...   en   \n",
       "3  1.244803e+18  Happy mothers day to this beautiful woman...ro...   en   \n",
       "4  1.244876e+18  Remembering the 3 most amazing ladies who made...   en   \n",
       "\n",
       "  retweet_count  original_author  sentiment_class  \n",
       "0             0      BeenXXPired                0  \n",
       "1             1   FestiveFeeling                0  \n",
       "2             0     KrisAllenSak               -1  \n",
       "3             0       Queenuchee                0  \n",
       "4             0  brittan17446794               -1  "
      ]
     },
     "execution_count": 3,
     "metadata": {},
     "output_type": "execute_result"
    }
   ],
   "source": [
    "train.head()"
   ]
  },
  {
   "cell_type": "code",
   "execution_count": 4,
   "metadata": {},
   "outputs": [
    {
     "data": {
      "text/plain": [
       "<seaborn.axisgrid.FacetGrid at 0x1a1c6bbbd0>"
      ]
     },
     "execution_count": 4,
     "metadata": {},
     "output_type": "execute_result"
    },
    {
     "data": {
      "image/png": "[encoded data removed]",
      "text/plain": [
       "<Figure size 360x360 with 1 Axes>"
      ]
     },
     "metadata": {
      "needs_background": "light"
     },
     "output_type": "display_data"
    }
   ],
   "source": [
    "# class imbalance \n",
    "\n",
    "sns.catplot('sentiment_class',data=train,kind='count')\n",
    "\n",
    "# there is some sort of class imbalance wherein appx 50% of the sentiments belong to neutral \n",
    "# and only 25% and 25# belong to positive and negative"
   ]
  },
  {
   "cell_type": "code",
   "execution_count": 5,
   "metadata": {},
   "outputs": [
    {
     "data": {
      "text/plain": [
       "original_author  sentiment_class\n",
       "unicorn_little_   0                 1\n",
       "vaibhavGhevde     0                 1\n",
       "vaohti           -1                 1\n",
       "vicebusting       1                 1\n",
       "vintagerenewed    0                 1\n",
       "vintagobsession   0                 1\n",
       "                  1                 1\n",
       "vishwas211085     0                 1\n",
       "vocalbeing        0                 1\n",
       "waelmusaa         0                 1\n",
       "wakingupfree      1                 1\n",
       "walkingSpegiddo  -1                 1\n",
       "waltersjewelers  -1                 1\n",
       "                  0                 1\n",
       "warnerbrostv      0                 1\n",
       "wellsleeprelax    0                 2\n",
       "whitebrownsugar   0                 1\n",
       "wifewithgirls    -1                 1\n",
       "                  0                 1\n",
       "wiililsunflower   0                 1\n",
       "windowtonews     -1                 1\n",
       "womenswordtoday   1                 1\n",
       "wonderBmarie     -1                 1\n",
       "wow10shop         1                 1\n",
       "wwwgalelaurecom   0                 1\n",
       "wyann             0                 1\n",
       "xoFaithNaomixo    0                 1\n",
       "yasminefakhry     0                 2\n",
       "yedidagavish      1                 1\n",
       "ypbishop          0                 1\n",
       "yrekbaatbolu      0                 2\n",
       "yunijewels       -1                 1\n",
       "z1y2x3            1                 1\n",
       "zach_margeson     0                 1\n",
       "zayzanufaa        1                 1\n",
       "zebraprintsky     0                 1\n",
       "zkozkohi         -1                 1\n",
       "zsamstore         0                 1\n",
       "                  1                 1\n",
       "|&gt              0                 2\n",
       "Name: id, dtype: int64"
      ]
     },
     "execution_count": 5,
     "metadata": {},
     "output_type": "execute_result"
    }
   ],
   "source": [
    "# lets check author names \n",
    "\n",
    "original_authors_train = pd.DataFrame(train['original_author'].value_counts())\n",
    "\n",
    "original_authors_train['original_author'].head(320)\n",
    "\n",
    "# appx 300 users have more than 1 tweets \n",
    "\n",
    "#lets perform a join operation to see how do their sentiments vary original author wise \n",
    "\n",
    "train.groupby(['original_author','sentiment_class'])['id'].count().tail(40)\n",
    "\n",
    "# we do see some variation here like same used sometimes has positive and neutral tweets \n",
    "# but mostly users who are tweeting neutral tend to tweet neutral\n",
    "\n",
    "# thus we can think of the authors being a good feature"
   ]
  },
  {
   "cell_type": "code",
   "execution_count": 6,
   "metadata": {},
   "outputs": [
    {
     "data": {
      "text/plain": [
       "sentiment_class  retweet_count\n",
       "-1               0                 639\n",
       "                 1                  81\n",
       "                 10                  1\n",
       "                 11                  2\n",
       "                 16                  1\n",
       "                 17                  1\n",
       "                 18                  1\n",
       "                 2                  16\n",
       "                 28                  1\n",
       "                 3                   6\n",
       "                 32                  1\n",
       "                 35                  1\n",
       "                 4                   5\n",
       "                 5                   5\n",
       "                 6                   2\n",
       "                 61                  1\n",
       "                 7                   2\n",
       "                 8                   2\n",
       "                 9                   1\n",
       " 0               -0.057256529        1\n",
       "                 -0.1417566007       1\n",
       "                 -0.3101107397       1\n",
       "                 -0.3643299313       1\n",
       "                 -0.4199361695       1\n",
       "                 -0.4666353157       1\n",
       "                 -0.5267869213       1\n",
       "                 -0.5391119831       1\n",
       "                 -0.7229893804       1\n",
       "                 -0.7272841814       1\n",
       "                 -0.8020153269       1\n",
       "                 -0.8614161431       1\n",
       "                 -0.9278231369       1\n",
       "                 -0.9319417873       1\n",
       "                 -0.9386981134       1\n",
       "                 0                1246\n",
       "                 0.0375273346        1\n",
       "                 0.1005978336        1\n",
       "                 0.1078812656        1\n",
       "                 0.1869516081        1\n",
       "                 0.2255471156        1\n",
       "                 0.2356132752        1\n",
       "                 0.2705365837        1\n",
       "                 0.3091754197        1\n",
       "                 0.4005356538        1\n",
       "                 0.6610057615        1\n",
       "                 0.6908800807        1\n",
       "                 0.7006763228        1\n",
       "                 0.704111013         1\n",
       "                 0.8574897643        1\n",
       "                 0.9846158924        1\n",
       "                 0.9930106132        1\n",
       "                 1                 149\n",
       "                 10                  2\n",
       "                 11                  5\n",
       "                 12                  2\n",
       "                 13                  1\n",
       "                 15                  1\n",
       "                 16                  2\n",
       "                 19                  1\n",
       "                 2                  46\n",
       "Name: id, dtype: int64"
      ]
     },
     "execution_count": 6,
     "metadata": {},
     "output_type": "execute_result"
    }
   ],
   "source": [
    "# lets now check retweet count distribution\n",
    "train[False == train['retweet_count'].str.contains(r'[a-zA-Z]')].groupby(['sentiment_class','retweet_count'])['id'].count().head(60)"
   ]
  },
  {
   "cell_type": "code",
   "execution_count": 123,
   "metadata": {},
   "outputs": [],
   "source": [
    "feature_retweet = pd.to_numeric(train[False == train['retweet_count'].str.contains(r'[a-zA-Z]')]['retweet_count']).round().abs()"
   ]
  },
  {
   "cell_type": "code",
   "execution_count": 124,
   "metadata": {},
   "outputs": [],
   "source": [
    "feature_retweet[True == train['retweet_count'].str.contains(r'[a-zA-Z]')] = 0"
   ]
  },
  {
   "cell_type": "code",
   "execution_count": 125,
   "metadata": {},
   "outputs": [
    {
     "data": {
      "text/plain": [
       "0"
      ]
     },
     "execution_count": 125,
     "metadata": {},
     "output_type": "execute_result"
    }
   ],
   "source": [
    "feature_retweet.isnull().sum()"
   ]
  },
  {
   "cell_type": "code",
   "execution_count": 7,
   "metadata": {},
   "outputs": [
    {
     "name": "stderr",
     "output_type": "stream",
     "text": [
      "/opt/anaconda3/lib/python3.7/site-packages/ipykernel_launcher.py:1: UserWarning: Boolean Series key will be reindexed to match DataFrame index.\n",
      "  \"\"\"Entry point for launching an IPython kernel.\n"
     ]
    },
    {
     "data": {
      "text/plain": [
       "sentiment_class  retweet_count\n",
       "1                0                636\n",
       "                 1                 61\n",
       "                 10                 1\n",
       "                 118                1\n",
       "                 14                 2\n",
       "                 15                 1\n",
       "                 18                 2\n",
       "                 2                 22\n",
       "                 20                 1\n",
       "                 21                 1\n",
       "                 24                 1\n",
       "                 25                 1\n",
       "                 3                 15\n",
       "                 32                 1\n",
       "                 37                 1\n",
       "                 4                  7\n",
       "                 45                 1\n",
       "                 5                  4\n",
       "                 6                  3\n",
       "                 8                  3\n",
       "Name: id, dtype: int64"
      ]
     },
     "execution_count": 7,
     "metadata": {},
     "output_type": "execute_result"
    }
   ],
   "source": [
    "train[False == train['retweet_count'].str.contains(r'[a-zA-Z]')][train['sentiment_class']==1].groupby(['sentiment_class','retweet_count'])['id'].count()"
   ]
  },
  {
   "cell_type": "code",
   "execution_count": 8,
   "metadata": {},
   "outputs": [
    {
     "name": "stdout",
     "output_type": "stream",
     "text": [
      "en                            2994\n",
      " pink Peruvian opal! via         4\n",
      " Find More                       2\n",
      "&gt                              2\n",
      "WORLDS OKAYEST MOTHER! &lt       2\n",
      "                              ... \n",
      "0.0903948317                     1\n",
      "0.8644551076                     1\n",
      "0.8835719655                     1\n",
      "0.3342376633                     1\n",
      "-0.6792288222                    1\n",
      "Name: lang, Length: 232, dtype: int64\n",
      "en                            1304\n",
      " pink Peruvian opal! via         3\n",
      "WORLDS OKAYEST MOTHER! &lt       2\n",
      "0.6732931884                     1\n",
      " !                               1\n",
      "                              ... \n",
      "0.1293615274                     1\n",
      "-0.3629539266                    1\n",
      "-0.5367241103                    1\n",
      "-0.6367165569                    1\n",
      " others not as lucky!            1\n",
      "Name: lang, Length: 81, dtype: int64\n"
     ]
    }
   ],
   "source": [
    "# its not very apparent whether tweet count will play a major role or not but for the moment lets retain it\n",
    "\n",
    "# lets now move on to language \n",
    "\n",
    "print(train['lang'].value_counts())\n",
    "\n",
    "print(test['lang'].value_counts())\n",
    "\n",
    "# we see that there is some moise in the data however we can safely assume that all the tweets are in english \n",
    "# as it appear from the count and the tweets hence se can disregard language being a factor"
   ]
  },
  {
   "cell_type": "code",
   "execution_count": 402,
   "metadata": {},
   "outputs": [
    {
     "data": {
      "text/plain": [
       "<matplotlib.axes._subplots.AxesSubplot at 0x1a1d9853d0>"
      ]
     },
     "execution_count": 402,
     "metadata": {},
     "output_type": "execute_result"
    },
    {
     "data": {
      "image/png": "[encoded data removed]",
      "text/plain": [
       "<Figure size 432x288 with 1 Axes>"
      ]
     },
     "metadata": {
      "needs_background": "light"
     },
     "output_type": "display_data"
    }
   ],
   "source": [
    "# lets finally move on to studying tweet texts \n",
    "\n",
    "# length \n",
    "\n",
    "train[train['sentiment_class']==0]['original_text'].str.split().apply(len).hist(bins = 20)\n",
    "\n",
    "train[train['sentiment_class']==1]['original_text'].str.split().apply(len).hist(bins = 20)\n",
    "\n",
    "train[train['sentiment_class']==-1]['original_text'].str.split().apply(len).hist(bins = 20)\n",
    "\n",
    "\n",
    "# there is a fairly good distribution of text length "
   ]
  },
  {
   "cell_type": "code",
   "execution_count": 403,
   "metadata": {},
   "outputs": [
    {
     "data": {
      "text/plain": [
       "0       [Happy, #MothersDay, to, all, you, amazing, mo...\n",
       "1       [Happy, Mothers, Day, Mum, -, I'm, sorry, I, c...\n",
       "2       [Happy, mothers, day, To, all, This, doing, a,...\n",
       "3       [Happy, mothers, day, to, this, beautiful, wom...\n",
       "4       [Remembering, the, 3, most, amazing, ladies, w...\n",
       "                              ...                        \n",
       "3230    [To, all, my, sisters, ,my, sisters, -in, -law...\n",
       "3231    [Happy, Mother’s, Day, to, all, the, Mums,, St...\n",
       "3232    [Happy, Mothers, Day, to, the, craziest, woman...\n",
       "3233    [Happy, Mother's, Day, to, my, amazing, wife!,...\n",
       "3234    [Wishing, you, all, a, safe, &, happy, Mothers...\n",
       "Name: original_text, Length: 3235, dtype: object"
      ]
     },
     "execution_count": 403,
     "metadata": {},
     "output_type": "execute_result"
    }
   ],
   "source": [
    "train['original_text'].str.split()"
   ]
  },
  {
   "cell_type": "code",
   "execution_count": 404,
   "metadata": {},
   "outputs": [],
   "source": [
    "# lets study count vectorizer  and see the words with highest occurance #\n",
    "from sklearn.feature_extraction.text import CountVectorizer"
   ]
  },
  {
   "cell_type": "code",
   "execution_count": 405,
   "metadata": {},
   "outputs": [],
   "source": [
    "vectorizer = CountVectorizer()"
   ]
  },
  {
   "cell_type": "code",
   "execution_count": 406,
   "metadata": {},
   "outputs": [],
   "source": [
    "X=vectorizer.fit_transform(list(train['original_text']))"
   ]
  },
  {
   "cell_type": "code",
   "execution_count": 407,
   "metadata": {},
   "outputs": [
    {
     "name": "stdout",
     "output_type": "stream",
     "text": [
      "(3235, 14852)\n"
     ]
    }
   ],
   "source": [
    "print(X.toarray().shape)"
   ]
  },
  {
   "cell_type": "markdown",
   "metadata": {},
   "source": [
    "##### we see that happy, mother, day will be repeated almost in every sentence ## it would be better not to have these as features or atleast have a lower weight for these #### \n",
    "\n",
    "##### lets start with TF-IDF vectorizer for this #####"
   ]
  },
  {
   "cell_type": "code",
   "execution_count": 408,
   "metadata": {},
   "outputs": [],
   "source": [
    "from sklearn.feature_extraction.text import TfidfVectorizer"
   ]
  },
  {
   "cell_type": "code",
   "execution_count": 409,
   "metadata": {},
   "outputs": [],
   "source": [
    "tfidfvectorizer = TfidfVectorizer(max_df=1.0,min_df=1,max_features=2000)"
   ]
  },
  {
   "cell_type": "code",
   "execution_count": 410,
   "metadata": {},
   "outputs": [],
   "source": [
    "X_train = tfidfvectorizer.fit_transform(list(train['original_text']))"
   ]
  },
  {
   "cell_type": "code",
   "execution_count": 411,
   "metadata": {},
   "outputs": [],
   "source": [
    "X_train = X_train.toarray()"
   ]
  },
  {
   "cell_type": "code",
   "execution_count": 412,
   "metadata": {},
   "outputs": [],
   "source": [
    "X_train = pd.DataFrame(data=X_train,index = np.arange(X_train.shape[0]),columns = np.arange(X_train.shape[1]))"
   ]
  },
  {
   "cell_type": "code",
   "execution_count": 413,
   "metadata": {},
   "outputs": [],
   "source": [
    "from sklearn.manifold import TSNE"
   ]
  },
  {
   "cell_type": "code",
   "execution_count": 414,
   "metadata": {},
   "outputs": [
    {
     "data": {
      "text/plain": [
       "(3235, 2)"
      ]
     },
     "execution_count": 414,
     "metadata": {},
     "output_type": "execute_result"
    }
   ],
   "source": [
    "X_embedded = TSNE(n_components=2).fit_transform(X_train)\n",
    "X_embedded.shape"
   ]
  },
  {
   "cell_type": "code",
   "execution_count": 415,
   "metadata": {},
   "outputs": [],
   "source": [
    "X_embedded = pd.DataFrame(data=X_embedded,index = np.arange(X_embedded.shape[0]),columns = np.arange(X_embedded.shape[1]))"
   ]
  },
  {
   "cell_type": "code",
   "execution_count": 416,
   "metadata": {},
   "outputs": [],
   "source": [
    "X_embedded['label'] = train['sentiment_class']"
   ]
  },
  {
   "cell_type": "code",
   "execution_count": 417,
   "metadata": {},
   "outputs": [
    {
     "data": {
      "text/plain": [
       "<matplotlib.axes._subplots.AxesSubplot at 0x1a1d7baf10>"
      ]
     },
     "execution_count": 417,
     "metadata": {},
     "output_type": "execute_result"
    },
    {
     "data": {
      "image/png": "[encoded data removed]",
      "text/plain": [
       "<Figure size 432x288 with 1 Axes>"
      ]
     },
     "metadata": {
      "needs_background": "light"
     },
     "output_type": "display_data"
    }
   ],
   "source": [
    "sns.scatterplot(x=0, y=1, hue=\"label\",data=X_embedded)"
   ]
  },
  {
   "cell_type": "code",
   "execution_count": 418,
   "metadata": {},
   "outputs": [],
   "source": [
    "# this clearly suggest there is not apparent pattern coming out with the help of tf idf # lets still try to model using various classifiers and see \n",
    "#their performance on the validation data"
   ]
  },
  {
   "cell_type": "markdown",
   "metadata": {},
   "source": [
    "# Classifications task #"
   ]
  },
  {
   "cell_type": "code",
   "execution_count": 457,
   "metadata": {},
   "outputs": [],
   "source": [
    "from sklearn.model_selection import train_test_split\n",
    "\n",
    "from sklearn import preprocessing\n",
    "\n",
    "from sklearn.metrics import f1_score\n",
    "\n",
    "from sklearn.metrics import confusion_matrix"
   ]
  },
  {
   "cell_type": "code",
   "execution_count": 458,
   "metadata": {},
   "outputs": [
    {
     "data": {
      "text/html": [
       "<div>\n",
       "<style scoped>\n",
       "    .dataframe tbody tr th:only-of-type {\n",
       "        vertical-align: middle;\n",
       "    }\n",
       "\n",
       "    .dataframe tbody tr th {\n",
       "        vertical-align: top;\n",
       "    }\n",
       "\n",
       "    .dataframe thead th {\n",
       "        text-align: right;\n",
       "    }\n",
       "</style>\n",
       "<table border=\"1\" class=\"dataframe\">\n",
       "  <thead>\n",
       "    <tr style=\"text-align: right;\">\n",
       "      <th></th>\n",
       "      <th>0</th>\n",
       "      <th>1</th>\n",
       "      <th>2</th>\n",
       "      <th>3</th>\n",
       "      <th>4</th>\n",
       "      <th>5</th>\n",
       "      <th>6</th>\n",
       "      <th>7</th>\n",
       "      <th>8</th>\n",
       "      <th>9</th>\n",
       "      <th>...</th>\n",
       "      <th>43</th>\n",
       "      <th>44</th>\n",
       "      <th>45</th>\n",
       "      <th>46</th>\n",
       "      <th>47</th>\n",
       "      <th>48</th>\n",
       "      <th>49</th>\n",
       "      <th>retweet_count</th>\n",
       "      <th>text_length</th>\n",
       "      <th>original_author</th>\n",
       "    </tr>\n",
       "  </thead>\n",
       "  <tbody>\n",
       "    <tr>\n",
       "      <th>0</th>\n",
       "      <td>0.361723</td>\n",
       "      <td>-0.120520</td>\n",
       "      <td>-0.048606</td>\n",
       "      <td>0.017691</td>\n",
       "      <td>0.050796</td>\n",
       "      <td>0.122869</td>\n",
       "      <td>0.034939</td>\n",
       "      <td>-0.010412</td>\n",
       "      <td>-0.112320</td>\n",
       "      <td>-0.007631</td>\n",
       "      <td>...</td>\n",
       "      <td>-0.023928</td>\n",
       "      <td>-0.027960</td>\n",
       "      <td>0.033968</td>\n",
       "      <td>0.042385</td>\n",
       "      <td>0.066477</td>\n",
       "      <td>0.084033</td>\n",
       "      <td>0.089099</td>\n",
       "      <td>0.0</td>\n",
       "      <td>43</td>\n",
       "      <td>BeenXXPired</td>\n",
       "    </tr>\n",
       "    <tr>\n",
       "      <th>1</th>\n",
       "      <td>0.220537</td>\n",
       "      <td>-0.035740</td>\n",
       "      <td>0.042841</td>\n",
       "      <td>0.004151</td>\n",
       "      <td>0.051587</td>\n",
       "      <td>0.105159</td>\n",
       "      <td>0.141905</td>\n",
       "      <td>-0.030509</td>\n",
       "      <td>-0.012663</td>\n",
       "      <td>0.045982</td>\n",
       "      <td>...</td>\n",
       "      <td>-0.043865</td>\n",
       "      <td>-0.006235</td>\n",
       "      <td>-0.091615</td>\n",
       "      <td>0.004625</td>\n",
       "      <td>-0.007375</td>\n",
       "      <td>0.060504</td>\n",
       "      <td>0.066088</td>\n",
       "      <td>1.0</td>\n",
       "      <td>60</td>\n",
       "      <td>FestiveFeeling</td>\n",
       "    </tr>\n",
       "    <tr>\n",
       "      <th>2</th>\n",
       "      <td>0.168721</td>\n",
       "      <td>-0.049946</td>\n",
       "      <td>0.036152</td>\n",
       "      <td>-0.053142</td>\n",
       "      <td>0.009540</td>\n",
       "      <td>0.023782</td>\n",
       "      <td>-0.002448</td>\n",
       "      <td>0.030933</td>\n",
       "      <td>-0.028071</td>\n",
       "      <td>-0.013800</td>\n",
       "      <td>...</td>\n",
       "      <td>0.006933</td>\n",
       "      <td>0.042144</td>\n",
       "      <td>-0.030849</td>\n",
       "      <td>0.003181</td>\n",
       "      <td>-0.042434</td>\n",
       "      <td>0.007334</td>\n",
       "      <td>0.007272</td>\n",
       "      <td>0.0</td>\n",
       "      <td>51</td>\n",
       "      <td>KrisAllenSak</td>\n",
       "    </tr>\n",
       "    <tr>\n",
       "      <th>3</th>\n",
       "      <td>0.150232</td>\n",
       "      <td>0.011785</td>\n",
       "      <td>0.026651</td>\n",
       "      <td>0.034889</td>\n",
       "      <td>-0.017905</td>\n",
       "      <td>-0.021725</td>\n",
       "      <td>-0.013864</td>\n",
       "      <td>0.067654</td>\n",
       "      <td>0.023174</td>\n",
       "      <td>-0.044513</td>\n",
       "      <td>...</td>\n",
       "      <td>0.025765</td>\n",
       "      <td>0.102970</td>\n",
       "      <td>0.025032</td>\n",
       "      <td>0.047281</td>\n",
       "      <td>-0.026531</td>\n",
       "      <td>0.046883</td>\n",
       "      <td>-0.046028</td>\n",
       "      <td>0.0</td>\n",
       "      <td>18</td>\n",
       "      <td>Queenuchee</td>\n",
       "    </tr>\n",
       "    <tr>\n",
       "      <th>4</th>\n",
       "      <td>0.231753</td>\n",
       "      <td>-0.056147</td>\n",
       "      <td>-0.024405</td>\n",
       "      <td>-0.076008</td>\n",
       "      <td>0.103895</td>\n",
       "      <td>-0.165174</td>\n",
       "      <td>0.039243</td>\n",
       "      <td>-0.053323</td>\n",
       "      <td>0.037902</td>\n",
       "      <td>-0.031689</td>\n",
       "      <td>...</td>\n",
       "      <td>-0.016597</td>\n",
       "      <td>0.038595</td>\n",
       "      <td>0.038200</td>\n",
       "      <td>0.010292</td>\n",
       "      <td>0.002773</td>\n",
       "      <td>-0.044504</td>\n",
       "      <td>0.033759</td>\n",
       "      <td>0.0</td>\n",
       "      <td>42</td>\n",
       "      <td>brittan17446794</td>\n",
       "    </tr>\n",
       "  </tbody>\n",
       "</table>\n",
       "<p>5 rows × 53 columns</p>\n",
       "</div>"
      ],
      "text/plain": [
       "          0         1         2         3         4         5         6  \\\n",
       "0  0.361723 -0.120520 -0.048606  0.017691  0.050796  0.122869  0.034939   \n",
       "1  0.220537 -0.035740  0.042841  0.004151  0.051587  0.105159  0.141905   \n",
       "2  0.168721 -0.049946  0.036152 -0.053142  0.009540  0.023782 -0.002448   \n",
       "3  0.150232  0.011785  0.026651  0.034889 -0.017905 -0.021725 -0.013864   \n",
       "4  0.231753 -0.056147 -0.024405 -0.076008  0.103895 -0.165174  0.039243   \n",
       "\n",
       "          7         8         9  ...        43        44        45        46  \\\n",
       "0 -0.010412 -0.112320 -0.007631  ... -0.023928 -0.027960  0.033968  0.042385   \n",
       "1 -0.030509 -0.012663  0.045982  ... -0.043865 -0.006235 -0.091615  0.004625   \n",
       "2  0.030933 -0.028071 -0.013800  ...  0.006933  0.042144 -0.030849  0.003181   \n",
       "3  0.067654  0.023174 -0.044513  ...  0.025765  0.102970  0.025032  0.047281   \n",
       "4 -0.053323  0.037902 -0.031689  ... -0.016597  0.038595  0.038200  0.010292   \n",
       "\n",
       "         47        48        49  retweet_count  text_length  original_author  \n",
       "0  0.066477  0.084033  0.089099            0.0           43      BeenXXPired  \n",
       "1 -0.007375  0.060504  0.066088            1.0           60   FestiveFeeling  \n",
       "2 -0.042434  0.007334  0.007272            0.0           51     KrisAllenSak  \n",
       "3 -0.026531  0.046883 -0.046028            0.0           18       Queenuchee  \n",
       "4  0.002773 -0.044504  0.033759            0.0           42  brittan17446794  \n",
       "\n",
       "[5 rows x 53 columns]"
      ]
     },
     "execution_count": 458,
     "metadata": {},
     "output_type": "execute_result"
    }
   ],
   "source": [
    "X = X_train\n",
    "\n",
    "X['retweet_count'] = feature_retweet\n",
    "\n",
    "X['original_author'] = train['original_author']\n",
    "\n",
    "X.head()"
   ]
  },
  {
   "cell_type": "code",
   "execution_count": 459,
   "metadata": {},
   "outputs": [],
   "source": [
    "le = preprocessing.LabelEncoder()\n",
    "\n",
    "le.fit(X['original_author'])\n",
    "\n",
    "le.classes_\n",
    "\n",
    "X['original_author'] = le.transform(X['original_author'])"
   ]
  },
  {
   "cell_type": "code",
   "execution_count": 460,
   "metadata": {
    "scrolled": true
   },
   "outputs": [
    {
     "data": {
      "text/html": [
       "<div>\n",
       "<style scoped>\n",
       "    .dataframe tbody tr th:only-of-type {\n",
       "        vertical-align: middle;\n",
       "    }\n",
       "\n",
       "    .dataframe tbody tr th {\n",
       "        vertical-align: top;\n",
       "    }\n",
       "\n",
       "    .dataframe thead th {\n",
       "        text-align: right;\n",
       "    }\n",
       "</style>\n",
       "<table border=\"1\" class=\"dataframe\">\n",
       "  <thead>\n",
       "    <tr style=\"text-align: right;\">\n",
       "      <th></th>\n",
       "      <th>0</th>\n",
       "      <th>1</th>\n",
       "      <th>2</th>\n",
       "      <th>3</th>\n",
       "      <th>4</th>\n",
       "      <th>5</th>\n",
       "      <th>6</th>\n",
       "      <th>7</th>\n",
       "      <th>8</th>\n",
       "      <th>9</th>\n",
       "      <th>...</th>\n",
       "      <th>43</th>\n",
       "      <th>44</th>\n",
       "      <th>45</th>\n",
       "      <th>46</th>\n",
       "      <th>47</th>\n",
       "      <th>48</th>\n",
       "      <th>49</th>\n",
       "      <th>retweet_count</th>\n",
       "      <th>text_length</th>\n",
       "      <th>original_author</th>\n",
       "    </tr>\n",
       "  </thead>\n",
       "  <tbody>\n",
       "    <tr>\n",
       "      <th>0</th>\n",
       "      <td>0.361723</td>\n",
       "      <td>-0.120520</td>\n",
       "      <td>-0.048606</td>\n",
       "      <td>0.017691</td>\n",
       "      <td>0.050796</td>\n",
       "      <td>0.122869</td>\n",
       "      <td>0.034939</td>\n",
       "      <td>-0.010412</td>\n",
       "      <td>-0.112320</td>\n",
       "      <td>-0.007631</td>\n",
       "      <td>...</td>\n",
       "      <td>-0.023928</td>\n",
       "      <td>-0.027960</td>\n",
       "      <td>0.033968</td>\n",
       "      <td>0.042385</td>\n",
       "      <td>0.066477</td>\n",
       "      <td>0.084033</td>\n",
       "      <td>0.089099</td>\n",
       "      <td>0.0</td>\n",
       "      <td>43</td>\n",
       "      <td>158</td>\n",
       "    </tr>\n",
       "    <tr>\n",
       "      <th>1</th>\n",
       "      <td>0.220537</td>\n",
       "      <td>-0.035740</td>\n",
       "      <td>0.042841</td>\n",
       "      <td>0.004151</td>\n",
       "      <td>0.051587</td>\n",
       "      <td>0.105159</td>\n",
       "      <td>0.141905</td>\n",
       "      <td>-0.030509</td>\n",
       "      <td>-0.012663</td>\n",
       "      <td>0.045982</td>\n",
       "      <td>...</td>\n",
       "      <td>-0.043865</td>\n",
       "      <td>-0.006235</td>\n",
       "      <td>-0.091615</td>\n",
       "      <td>0.004625</td>\n",
       "      <td>-0.007375</td>\n",
       "      <td>0.060504</td>\n",
       "      <td>0.066088</td>\n",
       "      <td>1.0</td>\n",
       "      <td>60</td>\n",
       "      <td>336</td>\n",
       "    </tr>\n",
       "    <tr>\n",
       "      <th>2</th>\n",
       "      <td>0.168721</td>\n",
       "      <td>-0.049946</td>\n",
       "      <td>0.036152</td>\n",
       "      <td>-0.053142</td>\n",
       "      <td>0.009540</td>\n",
       "      <td>0.023782</td>\n",
       "      <td>-0.002448</td>\n",
       "      <td>0.030933</td>\n",
       "      <td>-0.028071</td>\n",
       "      <td>-0.013800</td>\n",
       "      <td>...</td>\n",
       "      <td>0.006933</td>\n",
       "      <td>0.042144</td>\n",
       "      <td>-0.030849</td>\n",
       "      <td>0.003181</td>\n",
       "      <td>-0.042434</td>\n",
       "      <td>0.007334</td>\n",
       "      <td>0.007272</td>\n",
       "      <td>0.0</td>\n",
       "      <td>51</td>\n",
       "      <td>485</td>\n",
       "    </tr>\n",
       "    <tr>\n",
       "      <th>3</th>\n",
       "      <td>0.150232</td>\n",
       "      <td>0.011785</td>\n",
       "      <td>0.026651</td>\n",
       "      <td>0.034889</td>\n",
       "      <td>-0.017905</td>\n",
       "      <td>-0.021725</td>\n",
       "      <td>-0.013864</td>\n",
       "      <td>0.067654</td>\n",
       "      <td>0.023174</td>\n",
       "      <td>-0.044513</td>\n",
       "      <td>...</td>\n",
       "      <td>0.025765</td>\n",
       "      <td>0.102970</td>\n",
       "      <td>0.025032</td>\n",
       "      <td>0.047281</td>\n",
       "      <td>-0.026531</td>\n",
       "      <td>0.046883</td>\n",
       "      <td>-0.046028</td>\n",
       "      <td>0.0</td>\n",
       "      <td>18</td>\n",
       "      <td>718</td>\n",
       "    </tr>\n",
       "    <tr>\n",
       "      <th>4</th>\n",
       "      <td>0.231753</td>\n",
       "      <td>-0.056147</td>\n",
       "      <td>-0.024405</td>\n",
       "      <td>-0.076008</td>\n",
       "      <td>0.103895</td>\n",
       "      <td>-0.165174</td>\n",
       "      <td>0.039243</td>\n",
       "      <td>-0.053323</td>\n",
       "      <td>0.037902</td>\n",
       "      <td>-0.031689</td>\n",
       "      <td>...</td>\n",
       "      <td>-0.016597</td>\n",
       "      <td>0.038595</td>\n",
       "      <td>0.038200</td>\n",
       "      <td>0.010292</td>\n",
       "      <td>0.002773</td>\n",
       "      <td>-0.044504</td>\n",
       "      <td>0.033759</td>\n",
       "      <td>0.0</td>\n",
       "      <td>42</td>\n",
       "      <td>1018</td>\n",
       "    </tr>\n",
       "  </tbody>\n",
       "</table>\n",
       "<p>5 rows × 53 columns</p>\n",
       "</div>"
      ],
      "text/plain": [
       "          0         1         2         3         4         5         6  \\\n",
       "0  0.361723 -0.120520 -0.048606  0.017691  0.050796  0.122869  0.034939   \n",
       "1  0.220537 -0.035740  0.042841  0.004151  0.051587  0.105159  0.141905   \n",
       "2  0.168721 -0.049946  0.036152 -0.053142  0.009540  0.023782 -0.002448   \n",
       "3  0.150232  0.011785  0.026651  0.034889 -0.017905 -0.021725 -0.013864   \n",
       "4  0.231753 -0.056147 -0.024405 -0.076008  0.103895 -0.165174  0.039243   \n",
       "\n",
       "          7         8         9  ...        43        44        45        46  \\\n",
       "0 -0.010412 -0.112320 -0.007631  ... -0.023928 -0.027960  0.033968  0.042385   \n",
       "1 -0.030509 -0.012663  0.045982  ... -0.043865 -0.006235 -0.091615  0.004625   \n",
       "2  0.030933 -0.028071 -0.013800  ...  0.006933  0.042144 -0.030849  0.003181   \n",
       "3  0.067654  0.023174 -0.044513  ...  0.025765  0.102970  0.025032  0.047281   \n",
       "4 -0.053323  0.037902 -0.031689  ... -0.016597  0.038595  0.038200  0.010292   \n",
       "\n",
       "         47        48        49  retweet_count  text_length  original_author  \n",
       "0  0.066477  0.084033  0.089099            0.0           43              158  \n",
       "1 -0.007375  0.060504  0.066088            1.0           60              336  \n",
       "2 -0.042434  0.007334  0.007272            0.0           51              485  \n",
       "3 -0.026531  0.046883 -0.046028            0.0           18              718  \n",
       "4  0.002773 -0.044504  0.033759            0.0           42             1018  \n",
       "\n",
       "[5 rows x 53 columns]"
      ]
     },
     "execution_count": 460,
     "metadata": {},
     "output_type": "execute_result"
    }
   ],
   "source": [
    "X.head()"
   ]
  },
  {
   "cell_type": "code",
   "execution_count": 461,
   "metadata": {},
   "outputs": [],
   "source": [
    "X['text_length']=train['original_text'].str.split().apply(len)"
   ]
  },
  {
   "cell_type": "code",
   "execution_count": 462,
   "metadata": {},
   "outputs": [],
   "source": [
    "X = X.fillna(0)"
   ]
  },
  {
   "cell_type": "code",
   "execution_count": 463,
   "metadata": {},
   "outputs": [],
   "source": [
    "y = train['sentiment_class']"
   ]
  },
  {
   "cell_type": "code",
   "execution_count": 464,
   "metadata": {},
   "outputs": [],
   "source": [
    "## splitting the data in train and test ###"
   ]
  },
  {
   "cell_type": "code",
   "execution_count": 465,
   "metadata": {},
   "outputs": [],
   "source": [
    "X_train, X_test, y_train, y_test = train_test_split(X, y, test_size=0.25,stratify=y, random_state=42)"
   ]
  },
  {
   "cell_type": "code",
   "execution_count": 466,
   "metadata": {},
   "outputs": [],
   "source": [
    "# logistic regression \n",
    "\n",
    "from sklearn.linear_model import LogisticRegression"
   ]
  },
  {
   "cell_type": "code",
   "execution_count": 467,
   "metadata": {},
   "outputs": [],
   "source": [
    "clf = LogisticRegression(max_iter=10000)\n",
    "\n",
    "model = clf.fit(X_train,y_train)\n",
    "\n",
    "y_test = model.predict(X_test)"
   ]
  },
  {
   "cell_type": "code",
   "execution_count": 468,
   "metadata": {},
   "outputs": [
    {
     "data": {
      "text/plain": [
       "0.7661804297714171"
      ]
     },
     "execution_count": 468,
     "metadata": {},
     "output_type": "execute_result"
    }
   ],
   "source": [
    "f1_score(pred_test,y_test,average='weighted')"
   ]
  },
  {
   "cell_type": "code",
   "execution_count": 469,
   "metadata": {},
   "outputs": [
    {
     "data": {
      "text/plain": [
       "array([[  3,  60,   0],\n",
       "       [  4, 669,   1],\n",
       "       [  2,  69,   1]])"
      ]
     },
     "execution_count": 469,
     "metadata": {},
     "output_type": "execute_result"
    }
   ],
   "source": [
    "confusion_matrix(pred_test,y_test)"
   ]
  },
  {
   "cell_type": "code",
   "execution_count": 470,
   "metadata": {},
   "outputs": [],
   "source": [
    "############# NB ############"
   ]
  },
  {
   "cell_type": "code",
   "execution_count": 471,
   "metadata": {},
   "outputs": [],
   "source": [
    "from sklearn.naive_bayes import GaussianNB"
   ]
  },
  {
   "cell_type": "code",
   "execution_count": 472,
   "metadata": {},
   "outputs": [],
   "source": [
    "clf = GaussianNB()\n",
    "\n",
    "model = clf.fit(X_train,y_train)\n",
    "\n",
    "y_test = model.predict(X_test)"
   ]
  },
  {
   "cell_type": "code",
   "execution_count": 473,
   "metadata": {},
   "outputs": [
    {
     "data": {
      "text/plain": [
       "0.7630553031253527"
      ]
     },
     "execution_count": 473,
     "metadata": {},
     "output_type": "execute_result"
    }
   ],
   "source": [
    "f1_score(pred_test,y_test,average='weighted')"
   ]
  },
  {
   "cell_type": "code",
   "execution_count": 474,
   "metadata": {},
   "outputs": [
    {
     "data": {
      "text/plain": [
       "array([[ 17,  43,   3],\n",
       "       [ 53, 602,  19],\n",
       "       [ 10,  54,   8]])"
      ]
     },
     "execution_count": 474,
     "metadata": {},
     "output_type": "execute_result"
    }
   ],
   "source": [
    "confusion_matrix(pred_test,y_test)"
   ]
  },
  {
   "cell_type": "code",
   "execution_count": 475,
   "metadata": {},
   "outputs": [],
   "source": [
    "import lightgbm as lgbm"
   ]
  },
  {
   "cell_type": "code",
   "execution_count": 476,
   "metadata": {},
   "outputs": [
    {
     "name": "stdout",
     "output_type": "stream",
     "text": [
      "Requirement already satisfied: lightgbm in /opt/anaconda3/lib/python3.7/site-packages (2.3.1)\n",
      "Requirement already satisfied: numpy in /opt/anaconda3/lib/python3.7/site-packages (from lightgbm) (1.18.1)\n",
      "Requirement already satisfied: scipy in /opt/anaconda3/lib/python3.7/site-packages (from lightgbm) (1.4.1)\n",
      "Requirement already satisfied: scikit-learn in /opt/anaconda3/lib/python3.7/site-packages (from lightgbm) (0.22.1)\n",
      "Requirement already satisfied: joblib>=0.11 in /opt/anaconda3/lib/python3.7/site-packages (from scikit-learn->lightgbm) (0.14.1)\n",
      "Note: you may need to restart the kernel to use updated packages.\n"
     ]
    }
   ],
   "source": [
    "pip install lightgbm"
   ]
  },
  {
   "cell_type": "code",
   "execution_count": 477,
   "metadata": {},
   "outputs": [],
   "source": [
    "import lightgbm as lgbm"
   ]
  },
  {
   "cell_type": "code",
   "execution_count": 478,
   "metadata": {},
   "outputs": [
    {
     "data": {
      "text/plain": [
       "0.7531580769582931"
      ]
     },
     "execution_count": 478,
     "metadata": {},
     "output_type": "execute_result"
    }
   ],
   "source": [
    "clf = lgbm.sklearn.LGBMClassifier()\n",
    "\n",
    "model = clf.fit(X_train,y_train)\n",
    "\n",
    "y_test = model.predict(X_test)\n",
    "\n",
    "f1_score(pred_test,y_test,average='weighted')"
   ]
  },
  {
   "cell_type": "code",
   "execution_count": 479,
   "metadata": {},
   "outputs": [
    {
     "data": {
      "text/plain": [
       "array([[ 15,  42,   6],\n",
       "       [ 45, 581,  48],\n",
       "       [  5,  53,  14]])"
      ]
     },
     "execution_count": 479,
     "metadata": {},
     "output_type": "execute_result"
    }
   ],
   "source": [
    "confusion_matrix(pred_test,y_test)"
   ]
  },
  {
   "cell_type": "code",
   "execution_count": 480,
   "metadata": {},
   "outputs": [],
   "source": [
    "############## Let's create a setup to calculate an #########\n",
    "\n",
    "##we will be combining the train and test data and then prepare a common tf-idf##"
   ]
  },
  {
   "cell_type": "code",
   "execution_count": 481,
   "metadata": {},
   "outputs": [],
   "source": [
    "from sklearn.decomposition import TruncatedSVD"
   ]
  },
  {
   "cell_type": "code",
   "execution_count": 482,
   "metadata": {},
   "outputs": [],
   "source": [
    "Full_data = train.drop('sentiment_class',axis=1)"
   ]
  },
  {
   "cell_type": "code",
   "execution_count": 483,
   "metadata": {},
   "outputs": [],
   "source": [
    "Full_data = pd.concat([Full_data,test],ignore_index=True)"
   ]
  },
  {
   "cell_type": "code",
   "execution_count": 485,
   "metadata": {},
   "outputs": [],
   "source": [
    "tfidfvectorizer = TfidfVectorizer(max_df=1.0,min_df=1,max_features=20000)\n",
    "Y = tfidfvectorizer.fit_transform(list(Full_data['original_text']))\n",
    "\n",
    "svd = TruncatedSVD(n_components=50, n_iter=7, random_state=42)\n",
    "X = svd.fit_transform(Y)\n",
    "\n",
    "X = pd.DataFrame(data=X,index = np.arange(X.shape[0]),columns = np.arange(X.shape[1]))"
   ]
  },
  {
   "cell_type": "code",
   "execution_count": 486,
   "metadata": {},
   "outputs": [],
   "source": [
    "feature_retweet = pd.to_numeric(Full_data[False == Full_data['retweet_count'].str.contains(r'[a-zA-Z]')]['retweet_count']).round().abs()"
   ]
  },
  {
   "cell_type": "code",
   "execution_count": 487,
   "metadata": {},
   "outputs": [],
   "source": [
    "X['retweet_count'] =feature_retweet"
   ]
  },
  {
   "cell_type": "code",
   "execution_count": 488,
   "metadata": {},
   "outputs": [],
   "source": [
    "X['text_length']=Full_data['original_text'].str.split().apply(len)"
   ]
  },
  {
   "cell_type": "code",
   "execution_count": 489,
   "metadata": {},
   "outputs": [],
   "source": [
    "le = preprocessing.LabelEncoder()\n",
    "\n",
    "le.fit(Full_data['original_author'])\n",
    "\n",
    "le.classes_\n",
    "\n",
    "X['original_author'] = le.transform(Full_data['original_author'])"
   ]
  },
  {
   "cell_type": "code",
   "execution_count": 490,
   "metadata": {},
   "outputs": [],
   "source": [
    "X_train = X[:train.shape[0]]"
   ]
  },
  {
   "cell_type": "code",
   "execution_count": 491,
   "metadata": {},
   "outputs": [],
   "source": [
    "X_test = X[train.shape[0]:]"
   ]
  },
  {
   "cell_type": "code",
   "execution_count": 492,
   "metadata": {},
   "outputs": [],
   "source": [
    "y_train = train['sentiment_class']"
   ]
  },
  {
   "cell_type": "code",
   "execution_count": 493,
   "metadata": {},
   "outputs": [
    {
     "data": {
      "text/plain": [
       "0.9925907965872541"
      ]
     },
     "execution_count": 493,
     "metadata": {},
     "output_type": "execute_result"
    }
   ],
   "source": [
    "clf = lgbm.sklearn.LGBMClassifier(random_state=42)\n",
    "\n",
    "model = clf.fit(X_train,y_train)\n",
    "\n",
    "y_train_pred = model.predict(X_train)\n",
    "\n",
    "f1_score(y_train_pred,y_train,average='weighted')"
   ]
  },
  {
   "cell_type": "code",
   "execution_count": 494,
   "metadata": {},
   "outputs": [],
   "source": [
    "pred = model.predict(X_test)\n",
    "sub=pd.DataFrame()\n",
    "sub['id'] = test['id']\n",
    "sub['sentiment_class'] = pred\n",
    "sub.head()\n",
    "sub.to_csv('submission.csv',index=False)"
   ]
  },
  {
   "cell_type": "code",
   "execution_count": 498,
   "metadata": {},
   "outputs": [],
   "source": [
    "# this should be our baseline --- test score 41.92 ----- weighted F1 "
   ]
  },
  {
   "cell_type": "code",
   "execution_count": 503,
   "metadata": {},
   "outputs": [],
   "source": [
    "####################### Lets now perform the cleaning of text ##########################\n",
    "\n",
    "# we are going to perform following steps \n",
    "\n",
    "# Remove punctuations\n",
    "# Tokenization - Converting a sentence into list of words\n",
    "# Remove stopwords\n",
    "# Lammetization/stemming - Tranforming any form of a word to its root word\n",
    "\n",
    "import nltk \n",
    "import string\n",
    "import re"
   ]
  },
  {
   "cell_type": "code",
   "execution_count": 504,
   "metadata": {},
   "outputs": [],
   "source": [
    "# removing punctuations \n",
    "\n",
    "tweets = Full_data['original_text']"
   ]
  },
  {
   "cell_type": "code",
   "execution_count": 505,
   "metadata": {},
   "outputs": [
    {
     "data": {
      "text/plain": [
       "'!\"#$%&\\'()*+,-./:;<=>?@[\\\\]^_`{|}~'"
      ]
     },
     "execution_count": 505,
     "metadata": {},
     "output_type": "execute_result"
    }
   ],
   "source": [
    "string.punctuation"
   ]
  },
  {
   "cell_type": "code",
   "execution_count": 506,
   "metadata": {},
   "outputs": [
    {
     "data": {
      "text/plain": [
       "0    Happy MothersDay to all you amazing mothers ou...\n",
       "1    Happy Mothers Day Mum  Im sorry I cant be ther...\n",
       "2    Happy mothers day To all This doing a mothers ...\n",
       "3    Happy mothers day to this beautiful womanroyal...\n",
       "4    Remembering the  most amazing ladies who made ...\n",
       "5    HAPPY MOTHER’S DAY BRATZ WORLD FAMILIEZ YASMIN...\n",
       "6    Happy Mother’s Day to all you wonderful mums o...\n",
       "7    Show me a mother of two as sexy as Rosie Happy...\n",
       "8    To all the mothers grandmothers aunts sisters ...\n",
       "9    To all the mothers around the World Gas To Hea...\n",
       "Name: original_text, dtype: object"
      ]
     },
     "execution_count": 506,
     "metadata": {},
     "output_type": "execute_result"
    }
   ],
   "source": [
    "def remove_punct(tweet):\n",
    "    tweet  = \"\".join([char for char in tweet if char not in string.punctuation])\n",
    "    tweet = re.sub('[0-9]+', '', tweet)\n",
    "    return tweet\n",
    "\n",
    "tweets = tweets.apply(lambda x: remove_punct(x))\n",
    "tweets.head(10)"
   ]
  },
  {
   "cell_type": "code",
   "execution_count": 507,
   "metadata": {},
   "outputs": [
    {
     "data": {
      "text/plain": [
       "0    [Happy, MothersDay, to, all, you, amazing, mot...\n",
       "1    [Happy, Mothers, Day, Mum, Im, sorry, I, cant,...\n",
       "2    [Happy, mothers, day, To, all, This, doing, a,...\n",
       "3    [Happy, mothers, day, to, this, beautiful, wom...\n",
       "4    [Remembering, the, most, amazing, ladies, who,...\n",
       "Name: original_text, dtype: object"
      ]
     },
     "execution_count": 507,
     "metadata": {},
     "output_type": "execute_result"
    }
   ],
   "source": [
    "def tokenization(tweet):\n",
    "    tweet = re.split('\\W+', tweet)\n",
    "    return tweet\n",
    "\n",
    "tweets = tweets.apply(lambda x: tokenization(x))\n",
    "tweets.head()"
   ]
  },
  {
   "cell_type": "code",
   "execution_count": 509,
   "metadata": {},
   "outputs": [],
   "source": [
    "stopwords = nltk.corpus.stopwords.words('english')"
   ]
  },
  {
   "cell_type": "code",
   "execution_count": 512,
   "metadata": {},
   "outputs": [],
   "source": [
    "def remove_stopwords(tweet):\n",
    "    tweet = [word for word in tweet if word not in stopwords]\n",
    "    return tweet"
   ]
  },
  {
   "cell_type": "code",
   "execution_count": 513,
   "metadata": {},
   "outputs": [
    {
     "data": {
      "text/plain": [
       "0    [Happy, MothersDay, amazing, mothers, I, know,...\n",
       "1    [Happy, Mothers, Day, Mum, Im, sorry, I, cant,...\n",
       "2    [Happy, mothers, day, To, This, mothers, days,...\n",
       "3    [Happy, mothers, day, beautiful, womanroyalty,...\n",
       "4    [Remembering, amazing, ladies, made, I, My, la...\n",
       "5    [HAPPY, MOTHER, S, DAY, BRATZ, WORLD, FAMILIEZ...\n",
       "6    [Happy, Mother, Day, wonderful, mums, mothersd...\n",
       "7    [Show, mother, two, sexy, Rosie, Happy, Mother...\n",
       "8    [To, mothers, grandmothers, aunts, sisters, wo...\n",
       "9    [To, mothers, around, World, Gas, To, Health, ...\n",
       "Name: original_text, dtype: object"
      ]
     },
     "execution_count": 513,
     "metadata": {},
     "output_type": "execute_result"
    }
   ],
   "source": [
    "tweets = tweets.apply(lambda x: remove_stopwords(x))\n",
    "tweets.head(10)"
   ]
  },
  {
   "cell_type": "code",
   "execution_count": 514,
   "metadata": {},
   "outputs": [
    {
     "data": {
      "text/plain": [
       "0    [happi, mothersday, amaz, mother, I, know, har...\n",
       "1    [happi, mother, day, mum, Im, sorri, I, cant, ...\n",
       "2    [happi, mother, day, To, thi, mother, day, wor...\n",
       "3    [happi, mother, day, beauti, womanroyalti, soo...\n",
       "4    [rememb, amaz, ladi, made, I, My, late, grandm...\n",
       "Name: original_text, dtype: object"
      ]
     },
     "execution_count": 514,
     "metadata": {},
     "output_type": "execute_result"
    }
   ],
   "source": [
    "ps = nltk.PorterStemmer()\n",
    "\n",
    "def stemming(tweet):\n",
    "    tweet = [ps.stem(word) for word in tweet]\n",
    "    return tweet\n",
    "\n",
    "tweets = tweets.apply(lambda x: stemming(x))\n",
    "tweets.head()"
   ]
  },
  {
   "cell_type": "code",
   "execution_count": 515,
   "metadata": {},
   "outputs": [
    {
     "data": {
      "text/plain": [
       "0    [happi, mothersday, amaz, mother, I, know, har...\n",
       "1    [happi, mother, day, mum, Im, sorri, I, cant, ...\n",
       "2    [happi, mother, day, To, thi, mother, day, wor...\n",
       "3    [happi, mother, day, beauti, womanroyalti, soo...\n",
       "4    [rememb, amaz, ladi, made, I, My, late, grandm...\n",
       "Name: original_text, dtype: object"
      ]
     },
     "execution_count": 515,
     "metadata": {},
     "output_type": "execute_result"
    }
   ],
   "source": [
    "wn = nltk.WordNetLemmatizer()\n",
    "\n",
    "def lemmatizer(tweet):\n",
    "    tweet = [wn.lemmatize(word) for word in tweet]\n",
    "    return tweet\n",
    "\n",
    "tweets = tweets.apply(lambda x: lemmatizer(x))\n",
    "tweets.head()"
   ]
  },
  {
   "cell_type": "code",
   "execution_count": 516,
   "metadata": {},
   "outputs": [
    {
     "data": {
      "text/plain": [
       "0    happi mothersday amaz mother I know hard abl s...\n",
       "1    happi mother day mum Im sorri I cant bring mot...\n",
       "2    happi mother day To thi mother day work today ...\n",
       "3    happi mother day beauti womanroyalti sooth mum...\n",
       "4    rememb amaz ladi made I My late grandmoth iri ...\n",
       "Name: original_text, dtype: object"
      ]
     },
     "execution_count": 516,
     "metadata": {},
     "output_type": "execute_result"
    }
   ],
   "source": [
    "tweets = tweets.apply(lambda x: ' '.join(x))\n",
    "tweets.head()"
   ]
  },
  {
   "cell_type": "code",
   "execution_count": 1121,
   "metadata": {},
   "outputs": [],
   "source": [
    "############## Let's create a setup to calculate an #########\n",
    "\n",
    "##we will be combining the train and test data and then prepare a common tf-idf##\n",
    "\n",
    "# lgbm  - 43.9\n",
    "\n",
    "# 2000 top words in tfidf vector\n",
    "\n",
    "# 45 - dimension after truncatedSVD\n",
    "\n",
    "# XGB - 44.43 rank 26\n",
    "\n",
    "# 2000 - top words in tfidf vector (features)\n",
    "#50 - dimension after truncatedSVD\n"
   ]
  },
  {
   "cell_type": "code",
   "execution_count": 1122,
   "metadata": {},
   "outputs": [],
   "source": [
    "from sklearn.decomposition import TruncatedSVD"
   ]
  },
  {
   "cell_type": "code",
   "execution_count": 1123,
   "metadata": {},
   "outputs": [],
   "source": [
    "Full_data_cleaned = Full_data.copy()"
   ]
  },
  {
   "cell_type": "code",
   "execution_count": 1124,
   "metadata": {},
   "outputs": [],
   "source": [
    "Full_data_cleaned['original_text']=tweets"
   ]
  },
  {
   "cell_type": "code",
   "execution_count": 1125,
   "metadata": {},
   "outputs": [
    {
     "data": {
      "text/plain": [
       "0    happi mothersday amaz mother I know hard abl s...\n",
       "1    happi mother day mum Im sorri I cant bring mot...\n",
       "2    happi mother day To thi mother day work today ...\n",
       "3    happi mother day beauti womanroyalti sooth mum...\n",
       "4    rememb amaz ladi made I My late grandmoth iri ...\n",
       "Name: original_text, dtype: object"
      ]
     },
     "execution_count": 1125,
     "metadata": {},
     "output_type": "execute_result"
    }
   ],
   "source": [
    "Full_data_cleaned['original_text'].head()"
   ]
  },
  {
   "cell_type": "code",
   "execution_count": 1126,
   "metadata": {},
   "outputs": [],
   "source": [
    "tfidfvectorizer = TfidfVectorizer(max_df=1.0,min_df=1,max_features=2000)\n",
    "Y = tfidfvectorizer.fit_transform(list(Full_data['original_text']))\n",
    "\n",
    "svd = TruncatedSVD(n_components=50, n_iter=7, random_state=42)\n",
    "X = svd.fit_transform(Y)\n",
    "\n",
    "X = pd.DataFrame(data=X,index = np.arange(X.shape[0]),columns = np.arange(X.shape[1]))"
   ]
  },
  {
   "cell_type": "code",
   "execution_count": 1127,
   "metadata": {},
   "outputs": [],
   "source": [
    "feature_retweet = pd.to_numeric(Full_data[False == Full_data['retweet_count'].str.contains(r'[a-zA-Z]')]['retweet_count']).round().abs()"
   ]
  },
  {
   "cell_type": "code",
   "execution_count": 1128,
   "metadata": {},
   "outputs": [],
   "source": [
    "X['retweet_count'] =feature_retweet"
   ]
  },
  {
   "cell_type": "code",
   "execution_count": 1129,
   "metadata": {},
   "outputs": [],
   "source": [
    "X['text_length']=Full_data['original_text'].str.split().apply(len)"
   ]
  },
  {
   "cell_type": "code",
   "execution_count": 1130,
   "metadata": {},
   "outputs": [],
   "source": [
    "le = preprocessing.LabelEncoder()\n",
    "\n",
    "le.fit(Full_data['original_author'])\n",
    "\n",
    "le.classes_\n",
    "\n",
    "X['original_author'] = le.transform(Full_data['original_author'])"
   ]
  },
  {
   "cell_type": "code",
   "execution_count": 1131,
   "metadata": {},
   "outputs": [],
   "source": [
    "X_train = X[:train.shape[0]]"
   ]
  },
  {
   "cell_type": "code",
   "execution_count": 1132,
   "metadata": {},
   "outputs": [],
   "source": [
    "X_test = X[train.shape[0]:]"
   ]
  },
  {
   "cell_type": "code",
   "execution_count": 1133,
   "metadata": {},
   "outputs": [],
   "source": [
    "y_train = train['sentiment_class']"
   ]
  },
  {
   "cell_type": "code",
   "execution_count": 1134,
   "metadata": {},
   "outputs": [
    {
     "data": {
      "text/plain": [
       "0.9932039654730315"
      ]
     },
     "execution_count": 1134,
     "metadata": {},
     "output_type": "execute_result"
    }
   ],
   "source": [
    "clf = lgbm.sklearn.LGBMClassifier(random_state=42)\n",
    "\n",
    "model = clf.fit(X_train,y_train)\n",
    "\n",
    "y_train_pred = model.predict(X_train)\n",
    "\n",
    "f1_score(y_train_pred,y_train,average='weighted')"
   ]
  },
  {
   "cell_type": "code",
   "execution_count": 1135,
   "metadata": {},
   "outputs": [],
   "source": [
    "pred = model.predict(X_test)\n",
    "sub=pd.DataFrame()\n",
    "sub['id'] = test['id']\n",
    "sub['sentiment_class'] = pred\n",
    "sub.head()\n",
    "sub.to_csv('submission.csv',index=False)"
   ]
  },
  {
   "cell_type": "code",
   "execution_count": 1136,
   "metadata": {},
   "outputs": [],
   "source": [
    "import xgboost"
   ]
  },
  {
   "cell_type": "code",
   "execution_count": 1137,
   "metadata": {},
   "outputs": [
    {
     "data": {
      "text/plain": [
       "0.9987635634776251"
      ]
     },
     "execution_count": 1137,
     "metadata": {},
     "output_type": "execute_result"
    }
   ],
   "source": [
    "clf = xgboost.sklearn.XGBClassifier(random_state=42)\n",
    "\n",
    "model = clf.fit(X_train,y_train)\n",
    "\n",
    "y_train_pred = model.predict(X_train)\n",
    "\n",
    "f1_score(y_train_pred,y_train,average='weighted')"
   ]
  },
  {
   "cell_type": "code",
   "execution_count": 1138,
   "metadata": {},
   "outputs": [],
   "source": [
    "pred = model.predict(X_test)\n",
    "sub=pd.DataFrame()\n",
    "sub['id'] = test['id']\n",
    "sub['sentiment_class'] = pred\n",
    "sub.head()\n",
    "sub.to_csv('submission.csv',index=False)"
   ]
  },
  {
   "cell_type": "code",
   "execution_count": 1113,
   "metadata": {},
   "outputs": [],
   "source": [
    "################## LGBM and RF ensemble stacking and xgb as final estimator #######################\n",
    "\n",
    "\n",
    "#### this configuration failed badly ##########\n",
    "\n",
    "####### also we could have tried other models like bert ###### \n",
    "####### but lets stop here ###############"
   ]
  },
  {
   "cell_type": "code",
   "execution_count": 1114,
   "metadata": {},
   "outputs": [],
   "source": [
    "from sklearn.ensemble import StackingClassifier"
   ]
  },
  {
   "cell_type": "code",
   "execution_count": 1115,
   "metadata": {},
   "outputs": [],
   "source": [
    "from sklearn.ensemble import RandomForestClassifier"
   ]
  },
  {
   "cell_type": "code",
   "execution_count": 1116,
   "metadata": {},
   "outputs": [],
   "source": [
    "X_train=X_train.fillna(0)"
   ]
  },
  {
   "cell_type": "code",
   "execution_count": 1117,
   "metadata": {},
   "outputs": [],
   "source": [
    "estimators = [\n",
    "    ('lgb', lgbm.sklearn.LGBMClassifier(random_state=42)),\n",
    "    ('rf', RandomForestClassifier(random_state=42))]\n",
    "\n",
    "clf = StackingClassifier(\n",
    "        estimators=estimators,passthrough=True, final_estimator=xgboost.XGBClassifier(random_state=42)\n",
    " )\n",
    "\n",
    "model = clf.fit(X_train, y_train)"
   ]
  },
  {
   "cell_type": "code",
   "execution_count": 1118,
   "metadata": {},
   "outputs": [
    {
     "data": {
      "text/plain": [
       "0.710246029010065"
      ]
     },
     "execution_count": 1118,
     "metadata": {},
     "output_type": "execute_result"
    }
   ],
   "source": [
    "y_train_pred = model.predict(X_train)\n",
    "\n",
    "f1_score(y_train_pred,y_train,average='weighted')"
   ]
  },
  {
   "cell_type": "code",
   "execution_count": 1119,
   "metadata": {},
   "outputs": [],
   "source": [
    "X_test=X_test.fillna(0)"
   ]
  },
  {
   "cell_type": "code",
   "execution_count": 1120,
   "metadata": {},
   "outputs": [],
   "source": [
    "pred = model.predict(X_test)\n",
    "sub=pd.DataFrame()\n",
    "sub['id'] = test['id']\n",
    "sub['sentiment_class'] = pred\n",
    "sub.head()\n",
    "sub.to_csv('submission.csv',index=False)"
   ]
  },
  {
   "cell_type": "code",
   "execution_count": null,
   "metadata": {},
   "outputs": [],
   "source": []
  }
 ],
 "metadata": {
  "kernelspec": {
   "display_name": "Python 3",
   "language": "python",
   "name": "python3"
  },
  "language_info": {
   "codemirror_mode": {
    "name": "ipython",
    "version": 3
   },
   "file_extension": ".py",
   "mimetype": "text/x-python",
   "name": "python",
   "nbconvert_exporter": "python",
   "pygments_lexer": "ipython3",
   "version": "3.7.6"
  }
 },
 "nbformat": 4,
 "nbformat_minor": 4
}
